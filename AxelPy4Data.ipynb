{
 "cells": [
  {
   "cell_type": "code",
   "execution_count": null,
   "id": "7ab72d84-b783-4fee-a3fe-df1bb8961870",
   "metadata": {},
   "outputs": [],
   "source": [
    "def greetings():\n",
    "    print(\"Hello, Python!\")\n",
    "\n",
    "greetings()"
   ]
  },
  {
   "cell_type": "code",
   "execution_count": 3,
   "id": "d606c34f-018f-45d7-800c-d23a7e2ca639",
   "metadata": {
    "tags": []
   },
   "outputs": [
    {
     "name": "stdout",
     "output_type": "stream",
     "text": [
      "Enter your number a  2\n",
      "Enter your number b  2\n"
     ]
    },
    {
     "name": "stdout",
     "output_type": "stream",
     "text": [
      "4.0 addition\n",
      "0.0 subtraction\n",
      "4.0 multiplication\n",
      "1.0 division\n"
     ]
    }
   ],
   "source": [
    "def Basic_Arithmetic():\n",
    "    a = float(input(\"Enter your number a \"))\n",
    "    b = float(input(\"Enter your number b \"))\n",
    "    \n",
    "    print(a+b, \"addition\")\n",
    "    print(a-b, \"subtraction\")\n",
    "    print(a*b, \"multiplication\")\n",
    "    print(a/b, \"division\")\n",
    "    \n",
    "Basic_Arithmetic()\n"
   ]
  },
  {
   "cell_type": "code",
   "execution_count": 17,
   "id": "9c48f87c-a86a-4dee-8ed1-e5e711fbdbd0",
   "metadata": {
    "tags": []
   },
   "outputs": [
    {
     "name": "stdout",
     "output_type": "stream",
     "text": [
      "input your name  hi\n"
     ]
    },
    {
     "name": "stdout",
     "output_type": "stream",
     "text": [
      "Hello, hi\n"
     ]
    }
   ],
   "source": [
    "def String_Manipulation():\n",
    "    name = input(\"input your name \")\n",
    "    print(\"Hello,\", name)\n",
    "String_Manipulation()"
   ]
  },
  {
   "cell_type": "code",
   "execution_count": 19,
   "id": "5bd9064e-1cf1-4816-aaee-2af2edf7d03b",
   "metadata": {
    "tags": []
   },
   "outputs": [
    {
     "name": "stdout",
     "output_type": "stream",
     "text": [
      "List of universities: ['Harvard University', 'Stanford University', 'MIT', 'Oxford University', 'Cambridge University']\n",
      "First university: Harvard University\n",
      "Last university: Cambridge University\n"
     ]
    }
   ],
   "source": [
    "universities = [\"Harvard University\", \"Stanford University\", \"MIT\", \"Oxford University\", \"Cambridge University\"]\n",
    "\n",
    "print(\"List of universities:\", universities)\n",
    "\n",
    "print(\"First university:\", universities[0])\n",
    "print(\"Last university:\", universities[-1])"
   ]
  },
  {
   "cell_type": "code",
   "execution_count": 43,
   "id": "90537859-d98b-4eef-bedf-1779c5e11110",
   "metadata": {
    "tags": []
   },
   "outputs": [
    {
     "name": "stdout",
     "output_type": "stream",
     "text": [
      "Student Name: John Doe\n",
      "Age: 20, Grade: 8\n",
      "\n",
      "Student Name: Jane Smith\n",
      "Age: 22, Grade: 7\n",
      "\n",
      "Student Name: Emily Davis\n",
      "Age: 19, Grade: 9\n",
      "\n",
      "Student Name: Michael Johnson\n",
      "Age: 21, Grade: 5\n",
      "\n",
      "Student Name: Sophia Brown\n",
      "Age: 23, Grade: 6\n",
      "\n"
     ]
    }
   ],
   "source": [
    "#5\n",
    "def Dictionaries():\n",
    "    students = {\n",
    "        \"John Doe\": {\"age\": 20, \"grade\": 8},\n",
    "        \"Jane Smith\": {\"age\": 22, \"grade\": 7},\n",
    "        \"Emily Davis\": {\"age\": 19, \"grade\": 9},\n",
    "        \"Michael Johnson\": {\"age\": 21, \"grade\": 5},\n",
    "        \"Sophia Brown\": {\"age\": 23, \"grade\": 6}\n",
    "    }\n",
    "\n",
    "    \n",
    "    student_names = list(students.keys())\n",
    "\n",
    "    for i in range(len(student_names)):\n",
    "        name = student_names[i]\n",
    "        details = students[name]  \n",
    "        #print(details)\n",
    "        print(f\"Student Name: {name}\")\n",
    "        print(f\"Age: {details['age']}, Grade: {details['grade']}\")\n",
    "        print() \n",
    "        \n",
    "Dictionaries()"
   ]
  },
  {
   "cell_type": "code",
   "execution_count": null,
   "id": "25f71391-8e5c-43e3-8c0c-d88521a2dbb6",
   "metadata": {},
   "outputs": [],
   "source": [
    "#6\n",
    "coordinates = (4, 7)\n",
    "\n",
    "print(\"Coordinates:\", coordinates)\n",
    "\n",
    "print(\"X value:\", coordinates[0]) \n",
    "print(\"Y value:\", coordinates[1]) "
   ]
  },
  {
   "cell_type": "code",
   "execution_count": null,
   "id": "5b02d7c1-cbab-4fc9-96d8-cddf59bccb03",
   "metadata": {},
   "outputs": [],
   "source": [
    "#7\n",
    "colors = {\"red\", \"green\", \"blue\"}\n",
    "\n",
    "colors.add(\"yellow\")\n",
    "print(colors)\n",
    "\n",
    "colors.add(\"red\")\n",
    "print(colors)\n",
    "\n",
    "\n",
    "colors.remove(\"green\")\n",
    "print(colors)\n",
    "\n",
    "light_colors = {\"pink\", \"light blue\", \"light green\"}\n",
    "\n",
    "merged_colors = colors.union(light_colors)\n",
    "print(\"Merged set of colors and light_colors:\", merged_colors)"
   ]
  },
  {
   "cell_type": "code",
   "execution_count": null,
   "id": "c0be2a6f-a8f2-4c54-80b6-12d6504d2a0b",
   "metadata": {},
   "outputs": [],
   "source": [
    "#8\n",
    "number = float(input(\"Enter a number: \"))\n",
    "\n",
    "if number > 0:\n",
    "    print(\"The number is positive.\")\n",
    "elif number < 0:\n",
    "    print(\"The number is negative.\")\n",
    "else:\n",
    "    print(\"The number is zero.\")\n",
    "    "
   ]
  },
  {
   "cell_type": "code",
   "execution_count": null,
   "id": "9feb355f-bcc2-46fb-98b6-8cd4ebb3d403",
   "metadata": {},
   "outputs": [],
   "source": [
    "#9\n",
    "numbers = [1, 2, 3, 4, 5]\n",
    "\n",
    "\n",
    "for number in numbers:\n",
    "    print(number)"
   ]
  },
  {
   "cell_type": "code",
   "execution_count": 47,
   "id": "24570829-8358-457e-a38e-45a18334970d",
   "metadata": {
    "tags": []
   },
   "outputs": [
    {
     "name": "stdout",
     "output_type": "stream",
     "text": [
      "1\n",
      "2\n",
      "3\n",
      "4\n",
      "Terminating loop as number is 5\n"
     ]
    }
   ],
   "source": [
    "#10\n",
    "numbers = [1, 2, 3, 4, 5]\n",
    "\n",
    "# Use a for loop to iterate through the list\n",
    "for number in numbers:\n",
    "    if number == 5:\n",
    "        print(\"Terminating loop as number is 5\")\n",
    "        break \n",
    "    print(number)"
   ]
  },
  {
   "cell_type": "code",
   "execution_count": null,
   "id": "dc77a457-1c38-4d75-a10e-bfe20db9bcd6",
   "metadata": {},
   "outputs": [],
   "source": [
    "#11\n",
    "grade = input(\"Enter a grade (A, B, C, D, F): \").upper()\n",
    "\n",
    "match grade:\n",
    "    case \"A\":\n",
    "        print(\"Excellent!\")\n",
    "    case \"B\":\n",
    "        print(\"Good job!\")\n",
    "    case \"C\":\n",
    "        print(\"Fair.\")\n",
    "    case \"D\":\n",
    "        print(\"Needs improvement.\")\n",
    "    case \"F\":\n",
    "        print(\"Failing.\")\n",
    "    case _:\n",
    "        print(\"Invalid input. Please enter a valid grade (A, B, C, D, F).\")"
   ]
  },
  {
   "cell_type": "code",
   "execution_count": null,
   "id": "d0ad9e37-b0c9-4376-8044-457868c69246",
   "metadata": {},
   "outputs": [],
   "source": [
    "#12\n",
    "def greet(name):\n",
    "    print(f\"Hello, {name}!\")\n",
    "\n",
    "# Call the function with your own name\n",
    "greet(\"John\")  # Replace \"John\" with your own name"
   ]
  },
  {
   "cell_type": "code",
   "execution_count": null,
   "id": "a4dc084a-07c9-4c5f-bd45-872b54d6b6b1",
   "metadata": {},
   "outputs": [],
   "source": [
    "#13\n",
    "def square(number):\n",
    "    return number * number  \n",
    "\n",
    "print(square(2))   \n",
    "print(square(5))  \n",
    "print(square(10))  "
   ]
  },
  {
   "cell_type": "code",
   "execution_count": null,
   "id": "0a581a0e-6bbc-47c4-997b-31e69812814c",
   "metadata": {},
   "outputs": [],
   "source": [
    "#14\n",
    "def multiply(a, b=1):\n",
    "    return a * b  \n",
    "\n",
    "\n",
    "print(multiply(4, 5)) \n",
    "print(multiply(7)) "
   ]
  },
  {
   "cell_type": "code",
   "execution_count": 49,
   "id": "17007fc2-7864-4064-96aa-ca9324b01d13",
   "metadata": {
    "tags": []
   },
   "outputs": [
    {
     "name": "stdout",
     "output_type": "stream",
     "text": [
      "[1, 4, 9, 16, 25, 36, 49, 64, 81, 100]\n"
     ]
    }
   ],
   "source": [
    "#15\n",
    "numbers = [1, 2, 3, 4, 5, 6, 7, 8, 9, 10]\n",
    "\n",
    "# Use list comprehension to create a new list of squares\n",
    "squares = [number * number for number in numbers]\n",
    "\n",
    "# Print the new list of squares\n",
    "print(squares)"
   ]
  },
  {
   "cell_type": "code",
   "execution_count": 28,
   "id": "4d3640b9-cd0a-4a3d-a1d1-03f479b4fac3",
   "metadata": {
    "tags": []
   },
   "outputs": [
    {
     "name": "stdout",
     "output_type": "stream",
     "text": [
      "John's average grade: 84.33\n",
      "Jane's average grade: 91.67\n",
      "Emily's average grade: 79.00\n",
      "Michael's average grade: 88.33\n",
      "Sophia's average grade: 99.00\n"
     ]
    }
   ],
   "source": [
    "#16\n",
    "students = {\n",
    "    \"John\": [85, 90, 78],\n",
    "    \"Jane\": [92, 88, 95],\n",
    "    \"Emily\": [75, 80, 82],\n",
    "    \"Michael\": [89, 85, 91],\n",
    "    \"Sophia\": [100, 98, 99]\n",
    "}\n",
    "\n",
    "def print_average_grades(students):\n",
    "    for student, grades in students.items():\n",
    "        #print(student, grades)\n",
    "        average_grade = sum(grades) / len(grades)  \n",
    "        print(f\"{student}'s average grade: {average_grade:.2f}\") \n",
    "\n",
    "print_average_grades(students_grades)\n",
    "\n"
   ]
  },
  {
   "cell_type": "code",
   "execution_count": 24,
   "id": "c11145c8-65fa-40c2-bc1e-6a70c0f96850",
   "metadata": {
    "tags": []
   },
   "outputs": [
    {
     "name": "stdout",
     "output_type": "stream",
     "text": [
      "Enter the first number:  5\n",
      "Enter the second number:  5\n",
      "Enter an operator (+, -, *, /):  +\n"
     ]
    },
    {
     "name": "stdout",
     "output_type": "stream",
     "text": [
      "The result is: 10.0\n"
     ]
    }
   ],
   "source": [
    "#17\n",
    "def calculate(num1, num2, operator):\n",
    "    if operator == \"+\":\n",
    "        return num1 + num2\n",
    "    elif operator == \"-\":\n",
    "        return num1 - num2\n",
    "    elif operator == \"*\":\n",
    "        return num1 * num2\n",
    "    elif operator == \"/\":\n",
    "        if num2 != 0:\n",
    "            return num1 / num2\n",
    "        else:\n",
    "            return \"Error: Division by zero.\"\n",
    "    else:\n",
    "        return \"Invalid operator.\"\n",
    "\n",
    "number1 = float(input(\"Enter the first number: \"))\n",
    "number2 = float(input(\"Enter the second number: \"))\n",
    "operator = input(\"Enter an operator (+, -, *, /): \")\n",
    "\n",
    "result = calculate(number1, number2, operator)\n",
    "print(f\"The result is: {result}\")\n"
   ]
  },
  {
   "cell_type": "code",
   "execution_count": null,
   "id": "5169b847-15df-4698-a340-bf104f5fb993",
   "metadata": {},
   "outputs": [],
   "source": [
    "\n"
   ]
  },
  {
   "cell_type": "code",
   "execution_count": null,
   "id": "25a16326-8183-4422-baaf-4480f86f0dc5",
   "metadata": {},
   "outputs": [],
   "source": [
    "\n"
   ]
  }
 ],
 "metadata": {
  "kernelspec": {
   "display_name": "Python 3 (ipykernel)",
   "language": "python",
   "name": "python3"
  },
  "language_info": {
   "codemirror_mode": {
    "name": "ipython",
    "version": 3
   },
   "file_extension": ".py",
   "mimetype": "text/x-python",
   "name": "python",
   "nbconvert_exporter": "python",
   "pygments_lexer": "ipython3",
   "version": "3.11.7"
  }
 },
 "nbformat": 4,
 "nbformat_minor": 5
}
